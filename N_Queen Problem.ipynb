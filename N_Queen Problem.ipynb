{
 "cells": [
  {
   "cell_type": "code",
   "execution_count": 8,
   "id": "linear-founder",
   "metadata": {},
   "outputs": [],
   "source": [
    "# Checking function of attacking position of queen from row on left side\n",
    "def check1(arr,r,c,n):  \n",
    "    for i in range(c): \n",
    "        if arr[r][i] == 1: \n",
    "            return False\n",
    "    return(True)"
   ]
  },
  {
   "cell_type": "code",
   "execution_count": 9,
   "id": "exempt-sherman",
   "metadata": {},
   "outputs": [],
   "source": [
    "# Checking function of attacking positon of queen from uppper diagonal at left side\n",
    "def check2(arr,r,c,n):  \n",
    "    for i, j in zip(range(r, -1, -1),range(c, -1, -1)): \n",
    "        if arr[i][j] == 1: \n",
    "            return False\n",
    "    return(True)"
   ]
  },
  {
   "cell_type": "code",
   "execution_count": 10,
   "id": "divine-workplace",
   "metadata": {},
   "outputs": [],
   "source": [
    "# Checking function of attacking position of queen from lower diagonal at left side\n",
    "def check3(arr,r,c,n):    \n",
    "    for i, j in zip(range(r, n, 1),range(c, -1, -1)): \n",
    "        if arr[i][j] == 1: \n",
    "            return False \n",
    "    return(True)"
   ]
  },
  {
   "cell_type": "code",
   "execution_count": 11,
   "id": "purple-beginning",
   "metadata": {},
   "outputs": [],
   "source": [
    "#checking function to check if queen is safe to place\n",
    "def safe(arr,r,c,n):    \n",
    "    return((check1(arr,r,c,n))and(check2(arr,r,c,n))and(check3(arr,r,c,n))) \n"
   ]
  },
  {
   "cell_type": "code",
   "execution_count": 12,
   "id": "structural-escape",
   "metadata": {},
   "outputs": [],
   "source": [
    "def find(arr,c,n):        \n",
    "    if (c>=n):\n",
    "        return(True)\n",
    "    \n",
    "    for i in range(n):\n",
    "        if(safe(arr,i,c,n)):\n",
    "            arr[i][c]=1          \n",
    "            if(find(arr,c+1,n)==True):\n",
    "                return(True)\n",
    "            arr[i][c]=0           #Backtracking      \n",
    "    return(False)\n",
    "    "
   ]
  },
  {
   "cell_type": "code",
   "execution_count": 13,
   "id": "prescription-singapore",
   "metadata": {},
   "outputs": [],
   "source": [
    "def show(arr,n):      \n",
    "    for i in range (n):\n",
    "        for j in range (n):\n",
    "            print(arr[i][j],end=\" \")\n",
    "        print(\"\\n\")"
   ]
  },
  {
   "cell_type": "code",
   "execution_count": 19,
   "id": "lasting-congo",
   "metadata": {},
   "outputs": [
    {
     "name": "stdout",
     "output_type": "stream",
     "text": [
      "Enter the number of queens : 8\n",
      "Solution Of  8 x 8  Queens is:\n",
      "1 0 0 0 0 0 0 0 \n",
      "\n",
      "0 0 0 0 0 0 1 0 \n",
      "\n",
      "0 0 0 0 1 0 0 0 \n",
      "\n",
      "0 0 0 0 0 0 0 1 \n",
      "\n",
      "0 1 0 0 0 0 0 0 \n",
      "\n",
      "0 0 0 1 0 0 0 0 \n",
      "\n",
      "0 0 0 0 0 1 0 0 \n",
      "\n",
      "0 0 1 0 0 0 0 0 \n",
      "\n"
     ]
    }
   ],
   "source": [
    "def main():\n",
    "    n=int(input(\"Enter the number of queens : \"))       \n",
    "    arr=[]\n",
    "    rows, cols = (n, n)\n",
    "    for i in range(rows):\n",
    "        col = []\n",
    "        for j in range(cols):\n",
    "            col.append(0)\n",
    "        arr.append(col)\n",
    "    if(find(arr,0,n)!=True):                      \n",
    "        print(\"Solution does not exist\")\n",
    "        \n",
    "    else:\n",
    "        print(\"Solution Of \", n,\"x\",n,\" Queens is:\")\n",
    "        show(arr,n) \n",
    "        \n",
    "\n",
    "if __name__ == \"__main__\":\n",
    "    main()\n",
    "    \n",
    "    "
   ]
  }
 ],
 "metadata": {
  "kernelspec": {
   "display_name": "Python 3",
   "language": "python",
   "name": "python3"
  },
  "language_info": {
   "codemirror_mode": {
    "name": "ipython",
    "version": 3
   },
   "file_extension": ".py",
   "mimetype": "text/x-python",
   "name": "python",
   "nbconvert_exporter": "python",
   "pygments_lexer": "ipython3",
   "version": "3.6.13"
  }
 },
 "nbformat": 4,
 "nbformat_minor": 5
}
